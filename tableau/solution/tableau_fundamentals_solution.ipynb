{
 "cells": [
  {
   "cell_type": "markdown",
   "metadata": {},
   "source": [
    "<img src=\"../images/tableau_cmyk_2015.png\">"
   ]
  },
  {
   "cell_type": "markdown",
   "metadata": {},
   "source": [
    "# Tableau Fundamentals"
   ]
  },
  {
   "cell_type": "markdown",
   "metadata": {},
   "source": [
    "- 02/04/21\n",
    "- 081720FT"
   ]
  },
  {
   "cell_type": "markdown",
   "metadata": {},
   "source": [
    "## Topics"
   ]
  },
  {
   "cell_type": "markdown",
   "metadata": {},
   "source": [
    "- Tableau vs Tableau Public\n",
    "- Installing Tableau Public\n",
    "- Loading Data Files \n",
    "- Key Vocabulary\n",
    "- Making Several Types of Plots\n",
    "    - Scatter Plots with Trendlines\n",
    "    - Histograms/Grouped Histogram\n",
    "    - Map scatter plot \n",
    "    - Map Shaded Area Plot\n",
    "- Customizing Plots\n",
    "- Your Tableau Profile\n"
   ]
  },
  {
   "cell_type": "markdown",
   "metadata": {},
   "source": [
    "## Resources/References"
   ]
  },
  {
   "cell_type": "markdown",
   "metadata": {},
   "source": [
    "- Udemy Course: [Tableau 2020 A-Z: Hands-On Tableau Training for Data Science](https://www.udemy.com/course/tableau10/)"
   ]
  },
  {
   "cell_type": "markdown",
   "metadata": {},
   "source": [
    "# Tableau vs Tableau Public"
   ]
  },
  {
   "cell_type": "markdown",
   "metadata": {},
   "source": [
    "- Tableau Public is the free version of Tableau.\n",
    "- They are VERY similar, but there are important distinctions:\n",
    "    - Data Access\n",
    "        - Tableau can access SQL servers\n",
    "        - Tableau Public cannot.\n",
    "    - Saving Projects:\n",
    "        - Tableau can save and load projects locally.\n",
    "        - Tableau Public can only save to the cloud"
   ]
  },
  {
   "cell_type": "markdown",
   "metadata": {},
   "source": [
    "# Installing Tableau Public"
   ]
  },
  {
   "cell_type": "markdown",
   "metadata": {},
   "source": [
    "- https://public.tableau.com/en-us/s/"
   ]
  },
  {
   "cell_type": "markdown",
   "metadata": {},
   "source": [
    "# Examining the Data"
   ]
  },
  {
   "cell_type": "markdown",
   "metadata": {},
   "source": [
    "## Saving Dataset for Demo"
   ]
  },
  {
   "cell_type": "code",
   "execution_count": 8,
   "metadata": {
    "ExecuteTime": {
     "end_time": "2021-02-04T18:15:32.354637Z",
     "start_time": "2021-02-04T18:15:32.352061Z"
    }
   },
   "outputs": [],
   "source": [
    "# !pip install -U fsds\n",
    "# from fsds.imports import *"
   ]
  },
  {
   "cell_type": "code",
   "execution_count": 6,
   "metadata": {
    "ExecuteTime": {
     "end_time": "2021-02-04T18:04:55.868502Z",
     "start_time": "2021-02-04T18:04:54.486851Z"
    },
    "scrolled": true
   },
   "outputs": [
    {
     "data": {
      "text/html": [
       "<div>\n",
       "<style scoped>\n",
       "    .dataframe tbody tr th:only-of-type {\n",
       "        vertical-align: middle;\n",
       "    }\n",
       "\n",
       "    .dataframe tbody tr th {\n",
       "        vertical-align: top;\n",
       "    }\n",
       "\n",
       "    .dataframe thead th {\n",
       "        text-align: right;\n",
       "    }\n",
       "</style>\n",
       "<table border=\"1\" class=\"dataframe\">\n",
       "  <thead>\n",
       "    <tr style=\"text-align: right;\">\n",
       "      <th></th>\n",
       "      <th>date</th>\n",
       "      <th>price</th>\n",
       "      <th>bedrooms</th>\n",
       "      <th>bathrooms</th>\n",
       "      <th>sqft_living</th>\n",
       "      <th>sqft_lot</th>\n",
       "      <th>floors</th>\n",
       "      <th>waterfront</th>\n",
       "      <th>view</th>\n",
       "      <th>condition</th>\n",
       "      <th>grade</th>\n",
       "      <th>sqft_above</th>\n",
       "      <th>sqft_basement</th>\n",
       "      <th>yr_built</th>\n",
       "      <th>yr_renovated</th>\n",
       "      <th>zipcode</th>\n",
       "      <th>lat</th>\n",
       "      <th>long</th>\n",
       "      <th>sqft_living15</th>\n",
       "      <th>sqft_lot15</th>\n",
       "    </tr>\n",
       "    <tr>\n",
       "      <th>id</th>\n",
       "      <th></th>\n",
       "      <th></th>\n",
       "      <th></th>\n",
       "      <th></th>\n",
       "      <th></th>\n",
       "      <th></th>\n",
       "      <th></th>\n",
       "      <th></th>\n",
       "      <th></th>\n",
       "      <th></th>\n",
       "      <th></th>\n",
       "      <th></th>\n",
       "      <th></th>\n",
       "      <th></th>\n",
       "      <th></th>\n",
       "      <th></th>\n",
       "      <th></th>\n",
       "      <th></th>\n",
       "      <th></th>\n",
       "      <th></th>\n",
       "    </tr>\n",
       "  </thead>\n",
       "  <tbody>\n",
       "    <tr>\n",
       "      <th>7129300520</th>\n",
       "      <td>10/13/2014</td>\n",
       "      <td>221900.0</td>\n",
       "      <td>3</td>\n",
       "      <td>1.00</td>\n",
       "      <td>1180</td>\n",
       "      <td>5650</td>\n",
       "      <td>1.0</td>\n",
       "      <td>NaN</td>\n",
       "      <td>0.0</td>\n",
       "      <td>3</td>\n",
       "      <td>7</td>\n",
       "      <td>1180</td>\n",
       "      <td>0.0</td>\n",
       "      <td>1955</td>\n",
       "      <td>0.0</td>\n",
       "      <td>98178</td>\n",
       "      <td>47.5112</td>\n",
       "      <td>-122.257</td>\n",
       "      <td>1340</td>\n",
       "      <td>5650</td>\n",
       "    </tr>\n",
       "    <tr>\n",
       "      <th>6414100192</th>\n",
       "      <td>12/9/2014</td>\n",
       "      <td>538000.0</td>\n",
       "      <td>3</td>\n",
       "      <td>2.25</td>\n",
       "      <td>2570</td>\n",
       "      <td>7242</td>\n",
       "      <td>2.0</td>\n",
       "      <td>0.0</td>\n",
       "      <td>0.0</td>\n",
       "      <td>3</td>\n",
       "      <td>7</td>\n",
       "      <td>2170</td>\n",
       "      <td>400.0</td>\n",
       "      <td>1951</td>\n",
       "      <td>1991.0</td>\n",
       "      <td>98125</td>\n",
       "      <td>47.7210</td>\n",
       "      <td>-122.319</td>\n",
       "      <td>1690</td>\n",
       "      <td>7639</td>\n",
       "    </tr>\n",
       "  </tbody>\n",
       "</table>\n",
       "</div>"
      ],
      "text/plain": [
       "                  date     price  bedrooms  bathrooms  sqft_living  sqft_lot  \\\n",
       "id                                                                             \n",
       "7129300520  10/13/2014  221900.0         3       1.00         1180      5650   \n",
       "6414100192   12/9/2014  538000.0         3       2.25         2570      7242   \n",
       "\n",
       "            floors  waterfront  view  condition  grade  sqft_above  \\\n",
       "id                                                                   \n",
       "7129300520     1.0         NaN   0.0          3      7        1180   \n",
       "6414100192     2.0         0.0   0.0          3      7        2170   \n",
       "\n",
       "           sqft_basement  yr_built  yr_renovated  zipcode      lat     long  \\\n",
       "id                                                                            \n",
       "7129300520           0.0      1955           0.0    98178  47.5112 -122.257   \n",
       "6414100192         400.0      1951        1991.0    98125  47.7210 -122.319   \n",
       "\n",
       "            sqft_living15  sqft_lot15  \n",
       "id                                     \n",
       "7129300520           1340        5650  \n",
       "6414100192           1690        7639  "
      ]
     },
     "metadata": {},
     "output_type": "display_data"
    }
   ],
   "source": [
    "df1 = fs.datasets.load_mod1_proj(read_csv_kwds={'index_col':0})\n",
    "display(df1.head(2))\n",
    "df1.to_csv('regression_data_complete.csv')"
   ]
  },
  {
   "cell_type": "code",
   "execution_count": 7,
   "metadata": {
    "ExecuteTime": {
     "end_time": "2021-02-04T18:04:56.381388Z",
     "start_time": "2021-02-04T18:04:56.182331Z"
    },
    "scrolled": true
   },
   "outputs": [
    {
     "data": {
      "text/html": [
       "<div>\n",
       "<style scoped>\n",
       "    .dataframe tbody tr th:only-of-type {\n",
       "        vertical-align: middle;\n",
       "    }\n",
       "\n",
       "    .dataframe tbody tr th {\n",
       "        vertical-align: top;\n",
       "    }\n",
       "\n",
       "    .dataframe thead th {\n",
       "        text-align: right;\n",
       "    }\n",
       "</style>\n",
       "<table border=\"1\" class=\"dataframe\">\n",
       "  <thead>\n",
       "    <tr style=\"text-align: right;\">\n",
       "      <th></th>\n",
       "      <th>datetime</th>\n",
       "      <th>AGG. ASSAULT</th>\n",
       "      <th>ARSON</th>\n",
       "      <th>AUTO THEFT</th>\n",
       "      <th>BURGLARY</th>\n",
       "      <th>COMMON ASSAULT</th>\n",
       "      <th>HOMICIDE</th>\n",
       "      <th>LARCENY</th>\n",
       "      <th>LARCENY FROM AUTO</th>\n",
       "      <th>RAPE</th>\n",
       "      <th>ROBBERY - CARJACKING</th>\n",
       "      <th>ROBBERY - COMMERCIAL</th>\n",
       "      <th>ROBBERY - RESIDENCE</th>\n",
       "      <th>ROBBERY - STREET</th>\n",
       "      <th>SHOOTING</th>\n",
       "    </tr>\n",
       "  </thead>\n",
       "  <tbody>\n",
       "    <tr>\n",
       "      <th>0</th>\n",
       "      <td>2014-01-01</td>\n",
       "      <td>22</td>\n",
       "      <td>0</td>\n",
       "      <td>9</td>\n",
       "      <td>20</td>\n",
       "      <td>19</td>\n",
       "      <td>2</td>\n",
       "      <td>34</td>\n",
       "      <td>15</td>\n",
       "      <td>3</td>\n",
       "      <td>0</td>\n",
       "      <td>2</td>\n",
       "      <td>1</td>\n",
       "      <td>8</td>\n",
       "      <td>2</td>\n",
       "    </tr>\n",
       "    <tr>\n",
       "      <th>1</th>\n",
       "      <td>2014-01-02</td>\n",
       "      <td>6</td>\n",
       "      <td>0</td>\n",
       "      <td>7</td>\n",
       "      <td>28</td>\n",
       "      <td>23</td>\n",
       "      <td>3</td>\n",
       "      <td>26</td>\n",
       "      <td>10</td>\n",
       "      <td>0</td>\n",
       "      <td>1</td>\n",
       "      <td>1</td>\n",
       "      <td>1</td>\n",
       "      <td>4</td>\n",
       "      <td>0</td>\n",
       "    </tr>\n",
       "  </tbody>\n",
       "</table>\n",
       "</div>"
      ],
      "text/plain": [
       "     datetime  AGG. ASSAULT  ARSON  AUTO THEFT  BURGLARY  COMMON ASSAULT  \\\n",
       "0  2014-01-01            22      0           9        20              19   \n",
       "1  2014-01-02             6      0           7        28              23   \n",
       "\n",
       "   HOMICIDE  LARCENY  LARCENY FROM AUTO  RAPE  ROBBERY - CARJACKING  \\\n",
       "0         2       34                 15     3                     0   \n",
       "1         3       26                 10     0                     1   \n",
       "\n",
       "   ROBBERY - COMMERCIAL  ROBBERY - RESIDENCE  ROBBERY - STREET  SHOOTING  \n",
       "0                     2                    1                 8         2  \n",
       "1                     1                    1                 4         0  "
      ]
     },
     "metadata": {},
     "output_type": "display_data"
    }
   ],
   "source": [
    "df2 = fs.datasets.load_ts_baltimore_crime_counts()\n",
    "display(df2.head(2))\n",
    "df2.to_csv('baltimore_crime_ts.csv')"
   ]
  },
  {
   "cell_type": "markdown",
   "metadata": {},
   "source": [
    "## Load in `regression_data_details.csv`"
   ]
  },
  {
   "cell_type": "markdown",
   "metadata": {},
   "source": [
    "> - Open Tableau Public and load up the first housing regression dataset file (`regression_data_details.csv`)\n",
    "    - CSVs are technically \"Text Files\"   \n",
    "\n",
    "> - Notice that Tableau automatically replaced text values in numeric columns ('?' in sqft)\n",
    "    - It also cleaned up the column names (`sqft_living` -> \"Sqft Living\")\n",
    "  \n",
    "- Now click \"Go to Worksheet\" / \"Sheet 1\" at the bottom of the app.\n",
    "\n"
   ]
  },
  {
   "cell_type": "markdown",
   "metadata": {},
   "source": [
    "# Vocab"
   ]
  },
  {
   "cell_type": "markdown",
   "metadata": {},
   "source": [
    "- Dimensions: \n",
    "    - categorical features/independent variables\n",
    "    - Show up in Blue on Columns/Row view\n",
    "- Measures: \n",
    "    - numeric features / dependent variables.\n",
    "    - Measures get aggregated (SUM, MEAN,etc)\n",
    "    - Shows up in Green on Columns/Row View\n",
    "- Attributes??\n"
   ]
  },
  {
   "cell_type": "markdown",
   "metadata": {},
   "source": [
    "# Our Tasks"
   ]
  },
  {
   "cell_type": "markdown",
   "metadata": {},
   "source": [
    "## Load in `regression_data_details.csv`"
   ]
  },
  {
   "cell_type": "markdown",
   "metadata": {},
   "source": [
    "> - Open Tableau Public and load up the first housing regression dataset file (`regression_data_details.csv`)\n",
    "    - CSVs are technically \"Text Files\"   \n",
    "\n",
    "> - Notice that Tableau automatically replaced text values in numeric columns ('?' in sqft)\n",
    "    - It also cleaned up the column names (`sqft_living` -> \"Sqft Living\")\n",
    "  \n",
    "- Now click \"Go to Worksheet\" / \"Sheet 1\" at the bottom of the app.\n",
    "\n"
   ]
  },
  {
   "cell_type": "markdown",
   "metadata": {},
   "source": [
    "### Plots to Make: King's County Housing Data"
   ]
  },
  {
   "cell_type": "markdown",
   "metadata": {},
   "source": [
    "1. [ ] A scatter plot of Sqft Living vs Price + a trendline.\n",
    "2. [ ] A scatter plot of Sqft Living vs Price grouped by if its waterfront property (+ trendlines) <br><t>(first with null values then without)\n",
    "3. [ ] A histogram of price in in **\\$**100K-bins.\n",
    "4. [ ] A histogram of price in in **\\$**100K-bins broken out by Waterfront properties.\n",
    "5. [ ] A map of median prices by zipcode (with a Green color scale broken into 5 shades of green)- see note about maps below.\n",
    "6. [ ] A map of all homes with color-coded price with the smallest markers possible. \n",
    "\n",
    "    \n",
    "> - **Note: for our maps, we want:**\n",
    "    - A dark background,\n",
    "    - Add County names/borders\n",
    "    - Add major cities\n",
    "    - Add terrain\n",
    "    - Add major roadways. \n",
    "\n",
    "    \n",
    "- [ ] **Save the workbook to Tableau Public and make sure it shows all individual sheets.**\n",
    "\n"
   ]
  },
  {
   "cell_type": "markdown",
   "metadata": {},
   "source": [
    "### Solutions - King's County Housing Data"
   ]
  },
  {
   "cell_type": "markdown",
   "metadata": {},
   "source": [
    "1. A scatter plot of sqft_(which?) vs price + a trendline.\n",
    "    - Answer: \n",
    "        - Columns = Sqft Living (Dimension)\n",
    "        - Rows = Price (Dimension)\n",
    "        - Change to Analysis Tab -> Trendline\n",
    "        \n",
    "        \n",
    "2. A scatter plot of Sqft Living vs price grouped by if its waterfront property (first with null values then without)\n",
    "    - Duplicate sheet/plot #1\n",
    "    - Right Click Waterfront -> Convert to Dimension\n",
    "    - Drag Waterfront -> Color\n",
    "    \n",
    "    - To remove Null values:\n",
    "        - Right click on Null in legend > Exclude\n",
    "        \n",
    "3. A histogram of price in %100K-bins.\n",
    "    - Answer 1: Click Price then click Show Me\n",
    "    - Answer 2: \n",
    "        - Right click on Price > Create > Bins\n",
    "        - Columns = Price Bins\n",
    "        - Rows = Price (CNT)    \n",
    "    \n",
    "4. A histogram of price in in **\\$**100K-bins broken out by Waterfront properties.\n",
    "    - Duplicate plot #3\n",
    "    - Drag Waterfront dimension to Color.\n",
    "        \n",
    "        \n",
    "5. A map of median prices by zipcode (with a Green color scale broken into 5 shades of green):\n",
    "    - Drag Zipcode onto main pane of plot.\n",
    "    - Drag Price onto Color\n",
    "        - Change Price to Median\n",
    "    - Click on Dropdown Arrow next to Title of Color Scale:\n",
    "        - Edit Colors\n",
    "        - Select Green\n",
    "        - Select Stepped Color\n",
    "    - Visual Flair: \n",
    "        - Right Click on Map > Map Layers\n",
    "        - Select Dark\n",
    "        - Add County borders, county labels,\n",
    "        terrain, cities.\n",
    "        \n",
    "6. [ ] A map of all homes with color-coded price with the smallest markers possible. \n",
    "    - Columns: Long\n",
    "    - Rows: Lat\n",
    "    - Color: Price\n",
    "    - Click on Size > Drag slider to the left."
   ]
  },
  {
   "cell_type": "markdown",
   "metadata": {},
   "source": [
    "## Load in `baltimore_crime_ts.csv`"
   ]
  },
  {
   "cell_type": "markdown",
   "metadata": {},
   "source": [
    "- After saving the first notebook, close it and load in the other text file. "
   ]
  },
  {
   "cell_type": "markdown",
   "metadata": {},
   "source": [
    "### Plots to Make: Baltimore Crime Data"
   ]
  },
  {
   "cell_type": "markdown",
   "metadata": {},
   "source": [
    "1. [ ] Create a time series plot of:\n",
    "    - Shooting, Robbery-Street, Robbery-Carjacking, Homicide\n",
    "    - Convert it to an area chart"
   ]
  },
  {
   "cell_type": "markdown",
   "metadata": {},
   "source": [
    "### Solutions - Baltimore Crime Data"
   ]
  },
  {
   "cell_type": "markdown",
   "metadata": {},
   "source": [
    "- Double Click one of the crimes, e.g. Shooting\n",
    "- Double click Date.\n",
    "- Click on Date in the Columns box and click on Month from the second section of options. \n",
    "- To add more crimes:\n",
    "    - Click and drag their name into the upper left area of the y-axis until the || icon appears. \n",
    "    - Reference: https://community.tableau.com/s/question/0D54T00000C5hf4SAB/multiple-series-on-line-graph\n",
    "- To make an area chart: click drop down in Marks pane and select area. "
   ]
  },
  {
   "cell_type": "code",
   "execution_count": null,
   "metadata": {},
   "outputs": [],
   "source": []
  }
 ],
 "metadata": {
  "kernelspec": {
   "display_name": "learn-env",
   "language": "python",
   "name": "learn-env"
  },
  "language_info": {
   "codemirror_mode": {
    "name": "ipython",
    "version": 3
   },
   "file_extension": ".py",
   "mimetype": "text/x-python",
   "name": "python",
   "nbconvert_exporter": "python",
   "pygments_lexer": "ipython3",
   "version": "3.6.11"
  },
  "toc": {
   "base_numbering": 1,
   "nav_menu": {},
   "number_sections": false,
   "sideBar": true,
   "skip_h1_title": false,
   "title_cell": "Table of Contents",
   "title_sidebar": "Contents",
   "toc_cell": false,
   "toc_position": {},
   "toc_section_display": true,
   "toc_window_display": true
  }
 },
 "nbformat": 4,
 "nbformat_minor": 4
}
